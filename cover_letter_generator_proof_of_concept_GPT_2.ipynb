{
  "nbformat": 4,
  "nbformat_minor": 0,
  "metadata": {
    "colab": {
      "name": "cover_letter_generator_proof-of-concept_GPT-2",
      "provenance": [],
      "collapsed_sections": [],
      "include_colab_link": true
    },
    "kernelspec": {
      "name": "python3",
      "display_name": "Python 3"
    },
    "accelerator": "GPU"
  },
  "cells": [
    {
      "cell_type": "markdown",
      "metadata": {
        "id": "view-in-github",
        "colab_type": "text"
      },
      "source": [
        "<a href=\"https://colab.research.google.com/github/LilySu/selenium_project/blob/master/cover_letter_generator_proof_of_concept_GPT_2.ipynb\" target=\"_parent\"><img src=\"https://colab.research.google.com/assets/colab-badge.svg\" alt=\"Open In Colab\"/></a>"
      ]
    },
    {
      "cell_type": "markdown",
      "metadata": {
        "id": "H7LoMj4GA4n_",
        "colab_type": "text"
      },
      "source": [
        "#  Train a GPT-2 Text-Generating Model w/ GPU For Free \n",
        "\n",
        "by [Max Woolf](http://minimaxir.com)\n",
        "\n",
        "*Last updated: November 10th, 2019*\n",
        "\n",
        "Retrain an advanced text generating neural network on any text dataset **for free on a GPU using Collaboratory** using `gpt-2-simple`!\n",
        "\n",
        "For more about `gpt-2-simple`, you can visit [this GitHub repository](https://github.com/minimaxir/gpt-2-simple). You can also read my [blog post](https://minimaxir.com/2019/09/howto-gpt2/) for more information how to use this notebook!\n",
        "\n",
        "\n",
        "To get started:\n",
        "\n",
        "1. Copy this notebook to your Google Drive to keep it and save your changes. (File -> Save a Copy in Drive)\n",
        "2. Make sure you're running the notebook in Google Chrome.\n",
        "3. Run the cells below:\n"
      ]
    },
    {
      "cell_type": "code",
      "metadata": {
        "id": "KBkpRgBCBS2_",
        "colab_type": "code",
        "colab": {
          "base_uri": "https://localhost:8080/",
          "height": 173
        },
        "outputId": "bc691b5e-34b5-43ad-d89e-7a1533eb54eb"
      },
      "source": [
        "%tensorflow_version 1.x\n",
        "!pip install -q gpt-2-simple\n",
        "import gpt_2_simple as gpt2\n",
        "from datetime import datetime\n",
        "from google.colab import files"
      ],
      "execution_count": null,
      "outputs": [
        {
          "output_type": "stream",
          "text": [
            "TensorFlow 1.x selected.\n",
            "WARNING:tensorflow:\n",
            "The TensorFlow contrib module will not be included in TensorFlow 2.0.\n",
            "For more information, please see:\n",
            "  * https://github.com/tensorflow/community/blob/master/rfcs/20180907-contrib-sunset.md\n",
            "  * https://github.com/tensorflow/addons\n",
            "  * https://github.com/tensorflow/io (for I/O related ops)\n",
            "If you depend on functionality not listed there, please file an issue.\n",
            "\n"
          ],
          "name": "stdout"
        }
      ]
    },
    {
      "cell_type": "markdown",
      "metadata": {
        "id": "Bj2IJLHP3KwE",
        "colab_type": "text"
      },
      "source": [
        "## GPU\n",
        "\n",
        "Colaboratory uses either a Nvidia T4 GPU or an Nvidia K80 GPU. The T4 is slightly faster than the old K80 for training GPT-2, and has more memory allowing you to train the larger GPT-2 models and generate more text.\n",
        "\n",
        "You can verify which GPU is active by running the cell below."
      ]
    },
    {
      "cell_type": "code",
      "metadata": {
        "id": "sUmTooTW3osf",
        "colab_type": "code",
        "colab": {
          "base_uri": "https://localhost:8080/",
          "height": 364
        },
        "outputId": "f684ff6c-a12f-4a56-e26a-b74b6683b2fb"
      },
      "source": [
        "!nvidia-smi"
      ],
      "execution_count": null,
      "outputs": [
        {
          "output_type": "stream",
          "text": [
            "Thu Jul  2 22:37:41 2020       \n",
            "+-----------------------------------------------------------------------------+\n",
            "| NVIDIA-SMI 450.36.06    Driver Version: 418.67       CUDA Version: 10.1     |\n",
            "|-------------------------------+----------------------+----------------------+\n",
            "| GPU  Name        Persistence-M| Bus-Id        Disp.A | Volatile Uncorr. ECC |\n",
            "| Fan  Temp  Perf  Pwr:Usage/Cap|         Memory-Usage | GPU-Util  Compute M. |\n",
            "|                               |                      |               MIG M. |\n",
            "|===============================+======================+======================|\n",
            "|   0  Tesla P100-PCIE...  Off  | 00000000:00:04.0 Off |                    0 |\n",
            "| N/A   42C    P0    28W / 250W |      0MiB / 16280MiB |      0%      Default |\n",
            "|                               |                      |                 ERR! |\n",
            "+-------------------------------+----------------------+----------------------+\n",
            "                                                                               \n",
            "+-----------------------------------------------------------------------------+\n",
            "| Processes:                                                                  |\n",
            "|  GPU   GI   CI        PID   Type   Process name                  GPU Memory |\n",
            "|        ID   ID                                                   Usage      |\n",
            "|=============================================================================|\n",
            "|  No running processes found                                                 |\n",
            "+-----------------------------------------------------------------------------+\n"
          ],
          "name": "stdout"
        }
      ]
    },
    {
      "cell_type": "markdown",
      "metadata": {
        "id": "0wXB05bPDYxS",
        "colab_type": "text"
      },
      "source": [
        "## Downloading GPT-2\n",
        "\n",
        "If you're retraining a model on new text, you need to download the GPT-2 model first. \n",
        "\n",
        "There are three released sizes of GPT-2:\n",
        "\n",
        "* `124M` (default): the \"small\" model, 500MB on disk.\n",
        "* `355M`: the \"medium\" model, 1.5GB on disk.\n",
        "* `774M`: the \"large\" model, cannot currently be finetuned with Colaboratory but can be used to generate text from the pretrained model (see later in Notebook)\n",
        "* `1558M`: the \"extra large\", true model. Will not work if a K80 GPU is attached to the notebook. (like `774M`, it cannot be finetuned).\n",
        "\n",
        "Larger models have more knowledge, but take longer to finetune and longer to generate text. You can specify which base model to use by changing `model_name` in the cells below.\n",
        "\n",
        "The next cell downloads it from Google Cloud Storage and saves it in the Colaboratory VM at `/models/<model_name>`.\n",
        "\n",
        "This model isn't permanently saved in the Colaboratory VM; you'll have to redownload it if you want to retrain it at a later time."
      ]
    },
    {
      "cell_type": "code",
      "metadata": {
        "id": "P8wSlgXoDPCR",
        "colab_type": "code",
        "colab": {
          "base_uri": "https://localhost:8080/",
          "height": 138
        },
        "outputId": "b5a60bf9-ab90-43cd-b82a-6d584aad97a6"
      },
      "source": [
        "gpt2.download_gpt2(model_name=\"124M\")"
      ],
      "execution_count": null,
      "outputs": [
        {
          "output_type": "stream",
          "text": [
            "Fetching checkpoint: 1.05Mit [00:00, 397Mit/s]                                                      \n",
            "Fetching encoder.json: 1.05Mit [00:00, 121Mit/s]                                                    \n",
            "Fetching hparams.json: 1.05Mit [00:00, 1.22Git/s]                                                   \n",
            "Fetching model.ckpt.data-00000-of-00001: 498Mit [00:02, 202Mit/s]                                   \n",
            "Fetching model.ckpt.index: 1.05Mit [00:00, 404Mit/s]                                                \n",
            "Fetching model.ckpt.meta: 1.05Mit [00:00, 187Mit/s]                                                 \n",
            "Fetching vocab.bpe: 1.05Mit [00:00, 200Mit/s]                                                       \n"
          ],
          "name": "stderr"
        }
      ]
    },
    {
      "cell_type": "markdown",
      "metadata": {
        "id": "N8KXuKWzQSsN",
        "colab_type": "text"
      },
      "source": [
        "## Mounting Google Drive\n",
        "\n",
        "The best way to get input text to-be-trained into the Colaboratory VM, and to get the trained model *out* of Colaboratory, is to route it through Google Drive *first*.\n",
        "\n",
        "Running this cell (which will only work in Colaboratory) will mount your personal Google Drive in the VM, which later cells can use to get data in/out. (it will ask for an auth code; that auth is not saved anywhere)"
      ]
    },
    {
      "cell_type": "code",
      "metadata": {
        "id": "puq4iC6vUAHc",
        "colab_type": "code",
        "colab": {
          "base_uri": "https://localhost:8080/",
          "height": 34
        },
        "outputId": "1800ea2a-693d-44dc-bec2-4e18b3019150"
      },
      "source": [
        "gpt2.mount_gdrive()"
      ],
      "execution_count": null,
      "outputs": [
        {
          "output_type": "stream",
          "text": [
            "Drive already mounted at /content/drive; to attempt to forcibly remount, call drive.mount(\"/content/drive\", force_remount=True).\n"
          ],
          "name": "stdout"
        }
      ]
    },
    {
      "cell_type": "markdown",
      "metadata": {
        "id": "BT__brhBCvJu",
        "colab_type": "text"
      },
      "source": [
        "## Uploading a Text File to be Trained to Colaboratory\n",
        "\n",
        "In the Colaboratory Notebook sidebar on the left of the screen, select *Files*. From there you can upload files:\n",
        "\n",
        "![alt text](https://i.imgur.com/TGcZT4h.png)\n",
        "\n",
        "Upload **any smaller text file**  (<10 MB) and update the file name in the cell below, then run the cell."
      ]
    },
    {
      "cell_type": "code",
      "metadata": {
        "id": "6OFnPCLADfll",
        "colab_type": "code",
        "colab": {}
      },
      "source": [
        "file_name = \"cover_letter_sample.txt\""
      ],
      "execution_count": null,
      "outputs": []
    },
    {
      "cell_type": "markdown",
      "metadata": {
        "id": "HeeSKtNWUedE",
        "colab_type": "text"
      },
      "source": [
        "If your text file is larger than 10MB, it is recommended to upload that file to Google Drive first, then copy that file from Google Drive to the Colaboratory VM."
      ]
    },
    {
      "cell_type": "code",
      "metadata": {
        "id": "-Z6okFD8VKtS",
        "colab_type": "code",
        "colab": {}
      },
      "source": [
        "gpt2.copy_file_from_gdrive(file_name)"
      ],
      "execution_count": null,
      "outputs": []
    },
    {
      "cell_type": "markdown",
      "metadata": {
        "id": "LdpZQXknFNY3",
        "colab_type": "text"
      },
      "source": [
        "## Finetune GPT-2\n",
        "\n",
        "The next cell will start the actual finetuning of GPT-2. It creates a persistent TensorFlow session which stores the training config, then runs the training for the specified number of `steps`. (to have the finetuning run indefinitely, set `steps = -1`)\n",
        "\n",
        "The model checkpoints will be saved in `/checkpoint/run1` by default. The checkpoints are saved every 500 steps (can be changed) and when the cell is stopped.\n",
        "\n",
        "The training might time out after 4ish hours; make sure you end training and save the results so you don't lose them!\n",
        "\n",
        "**IMPORTANT NOTE:** If you want to rerun this cell, **restart the VM first** (Runtime -> Restart Runtime). You will need to rerun imports but not recopy files.\n",
        "\n",
        "Other optional-but-helpful parameters for `gpt2.finetune`:\n",
        "\n",
        "\n",
        "*  **`restore_from`**: Set to `fresh` to start training from the base GPT-2, or set to `latest` to restart training from an existing checkpoint.\n",
        "* **`sample_every`**: Number of steps to print example output\n",
        "* **`print_every`**: Number of steps to print training progress.\n",
        "* **`learning_rate`**:  Learning rate for the training. (default `1e-4`, can lower to `1e-5` if you have <1MB input data)\n",
        "*  **`run_name`**: subfolder within `checkpoint` to save the model. This is useful if you want to work with multiple models (will also need to specify  `run_name` when loading the model)\n",
        "* **`overwrite`**: Set to `True` if you want to continue finetuning an existing model (w/ `restore_from='latest'`) without creating duplicate copies. "
      ]
    },
    {
      "cell_type": "code",
      "metadata": {
        "id": "aeXshJM-Cuaf",
        "colab_type": "code",
        "colab": {
          "base_uri": "https://localhost:8080/",
          "height": 1000
        },
        "outputId": "f541222e-1387-4035-ba8f-b60a71665694"
      },
      "source": [
        "sess = gpt2.start_tf_sess()\n",
        "\n",
        "gpt2.finetune(sess,\n",
        "              dataset=file_name,\n",
        "              model_name='124M',\n",
        "              steps=1000,\n",
        "              restore_from='fresh',\n",
        "              run_name='run1',\n",
        "              print_every=10,\n",
        "              sample_every=200,\n",
        "              save_every=500\n",
        "              )"
      ],
      "execution_count": null,
      "outputs": [
        {
          "output_type": "stream",
          "text": [
            "WARNING:tensorflow:From /usr/local/lib/python3.6/dist-packages/gpt_2_simple/src/sample.py:17: where (from tensorflow.python.ops.array_ops) is deprecated and will be removed in a future version.\n",
            "Instructions for updating:\n",
            "Use tf.where in 2.0, which has the same broadcast rule as np.where\n",
            "Loading checkpoint models/124M/model.ckpt\n",
            "INFO:tensorflow:Restoring parameters from models/124M/model.ckpt\n"
          ],
          "name": "stdout"
        },
        {
          "output_type": "stream",
          "text": [
            "100%|██████████| 1/1 [00:00<00:00, 291.33it/s]"
          ],
          "name": "stderr"
        },
        {
          "output_type": "stream",
          "text": [
            "Loading dataset...\n",
            "dataset has 2234 tokens\n",
            "Training...\n"
          ],
          "name": "stdout"
        },
        {
          "output_type": "stream",
          "text": [
            "\n"
          ],
          "name": "stderr"
        },
        {
          "output_type": "stream",
          "text": [
            "[10 | 19.34] loss=1.02 avg=1.02\n",
            "[20 | 31.80] loss=0.18 avg=0.60\n",
            "[30 | 44.25] loss=0.04 avg=0.41\n",
            "[40 | 56.71] loss=0.02 avg=0.31\n",
            "[50 | 69.17] loss=0.02 avg=0.25\n",
            "[60 | 81.64] loss=0.01 avg=0.21\n",
            "[70 | 94.10] loss=0.01 avg=0.18\n",
            "[80 | 106.57] loss=0.01 avg=0.16\n",
            "[90 | 119.03] loss=0.01 avg=0.14\n",
            "[100 | 131.49] loss=0.01 avg=0.13\n",
            "[110 | 143.96] loss=0.01 avg=0.12\n",
            "[120 | 156.43] loss=0.01 avg=0.11\n",
            "[130 | 168.89] loss=0.01 avg=0.10\n",
            "[140 | 181.34] loss=0.02 avg=0.09\n",
            "[150 | 193.80] loss=0.01 avg=0.09\n",
            "[160 | 206.25] loss=0.01 avg=0.08\n",
            "[170 | 218.73] loss=0.01 avg=0.08\n",
            "[180 | 231.19] loss=0.01 avg=0.07\n",
            "[190 | 243.70] loss=0.01 avg=0.07\n",
            "[200 | 256.20] loss=0.01 avg=0.07\n",
            "======== SAMPLE 1 ========\n",
            " then I’m confident in my ability to perform as a Data Scientist at River Tech due to my extensive education and work experience.\n",
            "\n",
            "During my work experience at [], I had an extensive range of responsibilities including selecting features, optimizing classifiers, mining data, expanding the company's data by incorporating third-party sources, improving data collection techniques, processing data, and doing ad-hoc analyses. As a Data Scientist, I was required to have excellent communication skills, understanding of algorithms, excellence in the [] tool kit, proficiency in [], knowledge of [], and excellence in applied statistics. During my eight-year tenure at [], I applied these skills daily and performed exceptionally at the company.\n",
            "\n",
            "My abilities as a Data Scientist are rooted in a sturdy education in mathematics. I began with a bachelor's degree in computer science from Longford Tech. I followed this with a master's degree in statistics and a Ph.D. in applied mathematics. I attribute my success as a Data Scientist in large part to this extensive and in-depth education. I believe my personality has also played a major role in my ability to succeed in this career. I am an extremely analytical, data-oriented, and calculated. Even in my personal life I like to look at the data before making a decision. I like to analyze outcomes.\n",
            "\n",
            "I would like to thank you for taking the time to review my application. I look forward to hearing more about River Tech and the details of the Data Scientist position. I feel that my education and experience will ensure my success in this role.\n",
            "\n",
            "Dear [],\n",
            "\n",
            "I am interested in the Data Scientist position with [] and I am confident that I would be a valuable addition to your team.\n",
            "\n",
            "For the last five years I have worked in a similar position at Facebook where I was responsible for the analysis of raw data and also for contributing to the creation of data products such as []. My time at Facebook taught me how to identify and answer industry-relevant questions and then how to use that information to create a cutting edge advantage for my team in the marketplace.\n",
            "\n",
            "The Bachelor of [] that I earned from [] was instrumental to my success during my time as a data scientist at []. Along the way to earning my degree I also developed a strong background in mathematics that has served me well in my pursuit to advance the interests of my employers. My experience at [] and my educational background make me a good fit for this position as does my personal passion for logical problem solving.\n",
            "\n",
            "Your time and consideration are appreciated and I look forward to hearing from you. You can reach me at []. Thanks for your attention.\n",
            "\n",
            "Dear [],\n",
            "\n",
            "I am writing you to express my interest in interviewing for the position of Data Scientist. With my Masters degree in Data Science and eight years of experience as a Data Scientist under my belt, I think I can be a great asset to your organization.\n",
            "\n",
            "My professional experience includes crafting algorithms and making use of machine learning to mine and make sense of data, and then using data visualization to present said data to decision makers. Couple this experience with my passion for data and I think I’d be an excellent fit at [].\n",
            "\n",
            "What separates me from other candidates with similar qualifications are my written and verbal communication skills. I love talking about data and thrive on explaining the meaning of data to non-technical stakeholders. If you think I’d be a good fit for [], then I’d be thrilled to set up an interview.\n",
            "\n",
            "Dear [insert hiring manager’s name],\n",
            "\n",
            "I came across your data scientist job posting while reading one of your organization’s most recent publications, and I was immediately excited to apply given our mutual interest in using data to help audiences make better purchasing decisions. Not to mention, my four years of data analysis experience within the IT industry, my detail-oriented and methodical nature, and my total proficiency in database and modeling software programs will enable me to contribute significantly to your team.\n",
            "\n",
            "Most recently I have been a lead research and analysis professional with TF Solutions, with a focus on tracking user preferences and market trends. I am well-versed in industry needs and know how to work with minimal input while maintaining exceptional standards for accuracy, efficiency, and quality.With an adaptable and forward-thinking nature, I am always on the hunt for new ways to make research and data analysis more effective at capturing current market information and modeling future business needs.\n",
            "\n",
            "I am positive that with my experience, knowledge, and drive for excellence I can greatly benefit your leading-edge company.I am confident that my qualifications and your needs are an excellent fit, and I would love to learn more about this opportunity in a formal interview. I can make myself available for an appointment at your earliest convenience. Please also feel free to call me via the phone number or email address listed on my resume. Thank you for your time and consideration.\n",
            "\n",
            "Dear Ms. Hiring Manager,\n",
            "\n",
            "I’m\n",
            "\n",
            "[210 | 278.80] loss=0.00 avg=0.06\n",
            "[220 | 291.28] loss=0.01 avg=0.06\n",
            "[230 | 303.76] loss=0.01 avg=0.06\n",
            "[240 | 316.22] loss=0.01 avg=0.06\n",
            "[250 | 328.72] loss=0.01 avg=0.05\n",
            "[260 | 341.20] loss=0.01 avg=0.05\n",
            "[270 | 353.68] loss=0.01 avg=0.05\n",
            "[280 | 366.18] loss=0.01 avg=0.05\n",
            "[290 | 378.64] loss=0.01 avg=0.05\n",
            "[300 | 391.13] loss=0.01 avg=0.04\n",
            "[310 | 403.62] loss=0.01 avg=0.04\n",
            "[320 | 416.09] loss=0.01 avg=0.04\n",
            "[330 | 428.57] loss=0.01 avg=0.04\n",
            "[340 | 441.05] loss=0.01 avg=0.04\n",
            "[350 | 453.52] loss=0.01 avg=0.04\n",
            "[360 | 465.99] loss=0.01 avg=0.04\n",
            "[370 | 478.48] loss=0.01 avg=0.04\n",
            "[380 | 490.97] loss=0.01 avg=0.04\n",
            "[390 | 503.47] loss=0.01 avg=0.03\n",
            "[400 | 515.95] loss=0.01 avg=0.03\n",
            "======== SAMPLE 1 ========\n",
            "I was pleased to learn of the available Data Scientist position at [Company name] posted on [website]. With my Master of Science in Statistics and four years of experience managing data-related solutions under my belt, I am confident I will be a valuable asset to your team.\n",
            "\n",
            "It would be a pleasure to learn more about [company]’s expansion plans and provide further insight into how my highly developed data analytic abilities, experience managing large data sets, robust predictive analytics, and machine learning skills can help your company achieve these results. Some notable contributions to my previous employers include:\n",
            "\n",
            "Conducted a data regression analysis of the relationship between company stock prices and industry trends, achieving a 15% more accurate prediction of performance than previous years\n",
            "Used predictive analytics such as machine learning and data mining techniques to forecast company sales of new products with a 95% accuracy rate\n",
            "Thank you for your time and for considering my candidacy for this position. I look forward to hearing from you in the near future to schedule an interview.\n",
            "\n",
            "Dear Hiring Manager,\n",
            "\n",
            "I am applying for the position of [position name] with your company as advertised on [company website / Linkedin / job board website].\n",
            "\n",
            "As much as I’m into data manipulation, it’s the analysis of data that really gets me going. I like to explore the relationships between numbers, and translate digits and spreadsheets into stories. In the age of big data, these stories become actionable solutions and strategies for businesses, and I take pride in my ability to make data accessible to both executive decision-makers and frontline sales staff.\n",
            "\n",
            "On a personal level, I am detail-oriented, organized, and precise in my work; the only thing cleaner than my room are my spreadsheets. I have strong communication skills with a knack for clear and illuminating presentation. I’m comfortable on my own facing the numbers, but I really enjoy being part of a motivated team of smart people.\n",
            "\n",
            "Please find my contact information at the top of this letter, as well as on my enclosed resume. I appreciate your time spent reading this letter, and look forward to connecting in the future.\n",
            "\n",
            "Dear Hiring Manager,\n",
            "\n",
            "I would like to introduce myself as an applicant for the Data Scientist position at [], a prestigious and reputable name in innovative technology. I am confident in my ability to perform as a Data Scientist at River Tech due to my extensive education and work experience.\n",
            "\n",
            "During my work experience at [], I had an extensive range of responsibilities including selecting features, optimizing classifiers, mining data, expanding the company's data by incorporating third-party sources, improving data collection techniques, processing data, and doing ad-hoc analyses. As a Data Scientist, I was required to have excellent communication skills, understanding of algorithms, excellence in the [] tool kit, proficiency in [], knowledge of [], and excellence in applied statistics. During my eight-year tenure at [], I applied these skills daily and performed exceptionally at the company.\n",
            "\n",
            "My abilities as a Data Scientist are rooted in a sturdy education in mathematics. I began with a bachelor's degree in computer science from Longford Tech. I followed this with a master's degree in statistics and a Ph.D. in applied mathematics. I attribute my success as a Data Scientist in large part to this extensive and in-depth education. I believe my personality has also played a major role in my ability to succeed in this career. I am an extremely analytical, data-oriented, and calculated. Even in my personal life I like to look at the data before making a decision. I like to analyze outcomes.\n",
            "\n",
            "I would like to thank you for taking the time to review my application. I look forward to hearing more about River Tech and the details of the Data Scientist position. I feel that my education and experience will ensure my success in this role.\n",
            "\n",
            "Dear [],\n",
            "\n",
            "I am interested in the Data Scientist position with [] and I am confident that I would be a valuable addition to your team.\n",
            "\n",
            "For the last five years I have worked in a similar position at Facebook where I was responsible for the analysis of raw data and also for contributing to the creation of data products such as []. My time at Facebook taught me how to identify and answer industry-relevant questions and then how to use that information to create a cutting edge advantage for my team in the marketplace.\n",
            "\n",
            "The Bachelor of [] that I earned from [] was instrumental to my success during my time as a data scientist at []. Along the way to earning my degree I also developed a strong background in mathematics that has served me well in my pursuit to advance the interests of my employers. My experience at [] and my educational background make me a good fit for this position as does my personal passion for logical problem solving.\n",
            "\n",
            "Your time and consideration are appreciated and I look forward to hearing from you. You can reach me at []. Thanks for your attention.\n",
            "\n",
            "Dear [],\n",
            "\n",
            "I am writing you to\n",
            "\n",
            "[410 | 537.51] loss=0.01 avg=0.03\n",
            "[420 | 549.98] loss=0.01 avg=0.03\n",
            "[430 | 562.51] loss=0.01 avg=0.03\n",
            "[440 | 575.02] loss=0.01 avg=0.03\n",
            "[450 | 587.54] loss=0.01 avg=0.03\n",
            "[460 | 600.04] loss=0.01 avg=0.03\n",
            "[470 | 612.54] loss=0.01 avg=0.03\n",
            "[480 | 625.01] loss=0.00 avg=0.03\n",
            "[490 | 637.49] loss=0.01 avg=0.03\n",
            "[500 | 649.96] loss=0.00 avg=0.03\n",
            "Saving checkpoint/run1/model-500\n",
            "[510 | 665.18] loss=0.01 avg=0.03\n",
            "[520 | 677.65] loss=0.00 avg=0.03\n",
            "[530 | 690.12] loss=0.01 avg=0.03\n",
            "[540 | 702.59] loss=0.01 avg=0.03\n",
            "[550 | 715.05] loss=0.00 avg=0.02\n",
            "[560 | 727.52] loss=0.01 avg=0.02\n",
            "[570 | 739.99] loss=0.00 avg=0.02\n",
            "[580 | 752.46] loss=0.00 avg=0.02\n",
            "[590 | 764.91] loss=0.00 avg=0.02\n",
            "[600 | 777.36] loss=0.00 avg=0.02\n",
            "======== SAMPLE 1 ========\n",
            "�%3Bprojects. I’m comfortable on my own facing the numbers, but I really enjoy being part of a motivated team of smart people.\n",
            "\n",
            "Please find my contact information at the top of this letter, as well as on my enclosed resume. I appreciate your time spent reading this letter, and look forward to connecting in the future.\n",
            "\n",
            "Dear Hiring Manager,\n",
            "\n",
            "I would like to introduce myself as an applicant for the Data Scientist position at [], a prestigious and reputable name in innovative technology. I am confident in my ability to perform as a Data Scientist at River Tech due to my extensive education and work experience.\n",
            "\n",
            "During my work experience at [], I had an extensive range of responsibilities including selecting features, optimizing classifiers, mining data, expanding the company's data by incorporating third-party sources, improving data collection techniques, processing data, and doing ad-hoc analyses. As a Data Scientist, I was required to have excellent communication skills, understanding of algorithms, excellence in the [] tool kit, proficiency in [], knowledge of [], and excellence in applied statistics. During my eight-year tenure at [], I applied these skills daily and performed exceptionally at the company.\n",
            "\n",
            "My abilities as a Data Scientist are rooted in a sturdy education in mathematics. I began with a bachelor's degree in computer science from Longford Tech. I followed this with a master's degree in statistics and a Ph.D. in applied mathematics. I attribute my success as a Data Scientist in large part to this extensive and in-depth education. I believe my personality has also played a major role in my ability to succeed in this career. I am an extremely analytical, data-oriented, and calculated. Even in my personal life I like to look at the data before making a decision. I like to analyze outcomes.\n",
            "\n",
            "I would like to thank you for taking the time to review my application. I look forward to hearing more about River Tech and the details of the Data Scientist position. I feel that my education and experience will ensure my success in this role.\n",
            "\n",
            "Dear [],\n",
            "\n",
            "I am interested in the Data Scientist position with [] and I am confident that I would be a valuable addition to your team.\n",
            "\n",
            "For the last five years I have worked in a similar position at Facebook where I was responsible for the analysis of raw data and also for contributing to the creation of data products such as []. My time at Facebook taught me how to identify and answer industry-relevant questions and then how to use that information to create a cutting edge advantage for my team in the marketplace.\n",
            "\n",
            "The Bachelor of [] that I earned from [] was instrumental to my success during my time as a data scientist at []. Along the way to earning my degree I also developed a strong background in mathematics that has served me well in my pursuit to advance the interests of my employers. My experience at [] and my educational background make me a good fit for this position as does my personal passion for logical problem solving.\n",
            "\n",
            "Your time and consideration are appreciated and I look forward to hearing from you. You can reach me at []. Thanks for your attention.\n",
            "\n",
            "Dear [],\n",
            "\n",
            "I am writing you to express my interest in interviewing for the position of Data Scientist. With my Masters degree in Data Science and eight years of experience as a Data Scientist under my belt, I think I can be a great asset to your organization.\n",
            "\n",
            "My professional experience includes crafting algorithms and making use of machine learning to mine and make sense of data, and then using data visualization to present said data to decision makers. Couple this experience with my passion for data and I think I’d be an excellent fit at [].\n",
            "\n",
            "What separates me from other candidates with similar qualifications are my written and verbal communication skills. I love talking about data and thrive on explaining the meaning of data to non-technical stakeholders. If you think I’d be a good fit for [], then I’d be thrilled to set up an interview.\n",
            "\n",
            "Dear [insert hiring manager’s name],\n",
            "\n",
            "I came across your data scientist job posting while reading one of your organization’s most recent publications, and I was immediately excited to apply given our mutual interest in using data to help audiences make better purchasing decisions. Not to mention, my four years of data analysis experience within the IT industry, my detail-oriented and methodical nature, and my total proficiency in database and modeling software programs will enable me to contribute significantly to your team.\n",
            "\n",
            "Most recently I have been a lead research and analysis professional with TF Solutions, with a focus on tracking user preferences and market trends. I am well-versed in industry needs and know how to work with minimal input while maintaining exceptional standards for accuracy, efficiency, and quality.With an adaptable and forward-thinking nature, I am always on the hunt for new ways to make research and data analysis more effective at capturing current market information and modeling future business needs.\n",
            "\n",
            "I am positive that\n",
            "\n",
            "[610 | 798.77] loss=0.00 avg=0.02\n",
            "[620 | 811.24] loss=0.00 avg=0.02\n",
            "[630 | 823.72] loss=0.01 avg=0.02\n",
            "[640 | 836.18] loss=0.01 avg=0.02\n",
            "[650 | 848.66] loss=0.00 avg=0.02\n",
            "[660 | 861.12] loss=0.01 avg=0.02\n",
            "[670 | 873.64] loss=0.01 avg=0.02\n",
            "[680 | 886.10] loss=0.00 avg=0.02\n",
            "[690 | 898.56] loss=0.00 avg=0.02\n",
            "[700 | 911.03] loss=0.01 avg=0.02\n",
            "[710 | 923.50] loss=0.01 avg=0.02\n",
            "[720 | 935.98] loss=0.01 avg=0.02\n",
            "[730 | 948.49] loss=0.01 avg=0.02\n",
            "[740 | 960.96] loss=0.01 avg=0.02\n",
            "[750 | 973.44] loss=0.00 avg=0.02\n",
            "[760 | 985.93] loss=0.00 avg=0.02\n",
            "[770 | 998.42] loss=0.00 avg=0.02\n",
            "[780 | 1010.89] loss=0.00 avg=0.02\n",
            "[790 | 1023.38] loss=0.01 avg=0.02\n",
            "[800 | 1035.85] loss=0.00 avg=0.02\n",
            "======== SAMPLE 1 ========\n",
            " me in the marketplace.\n",
            "\n",
            "The Bachelor of [] that I earned from [] was instrumental to my success during my time as a data scientist at []. Along the way to earning my degree I also developed a strong background in mathematics that has served me well in my pursuit to advance the interests of my employers. My experience at [] and my educational background make me a good fit for this position as does my personal passion for logical problem solving.\n",
            "\n",
            "Your time and consideration are appreciated and I look forward to hearing from you. You can reach me at []. Thanks for your attention.\n",
            "\n",
            "Dear [],\n",
            "\n",
            "I am writing you to express my interest in interviewing for the position of Data Scientist. With my Masters degree in Data Science and eight years of experience as a Data Scientist under my belt, I think I can be a great asset to your organization.\n",
            "\n",
            "My professional experience includes crafting algorithms and making use of machine learning to mine and make sense of data, and then using data visualization to present said data to decision makers. Couple this experience with my passion for data and I think I’d be an excellent fit at [].\n",
            "\n",
            "What separates me from other candidates with similar qualifications are my written and verbal communication skills. I love talking about data and thrive on explaining the meaning of data to non-technical stakeholders. If you think I’d be a good fit for [], then I’d be thrilled to set up an interview.\n",
            "\n",
            "Dear [insert hiring manager’s name],\n",
            "\n",
            "I came across your data scientist job posting while reading one of your organization’s most recent publications, and I was immediately excited to apply given our mutual interest in using data to help audiences make better purchasing decisions. Not to mention, my four years of data analysis experience within the IT industry, my detail-oriented and methodical nature, and my total proficiency in database and modeling software programs will enable me to contribute significantly to your team.\n",
            "\n",
            "Most recently I have been a lead research and analysis professional with TF Solutions, with a focus on tracking user preferences and market trends. I am well-versed in industry needs and know how to work with minimal input while maintaining exceptional standards for accuracy, efficiency, and quality.With an adaptable and forward-thinking nature, I am always on the hunt for new ways to make research and data analysis more effective at capturing current market information and modeling future business needs.\n",
            "\n",
            "I am positive that with my experience, knowledge, and drive for excellence I can greatly benefit your leading-edge company.I am confident that my qualifications and your needs are an excellent fit, and I would love to learn more about this opportunity in a formal interview. I can make myself available for an appointment at your earliest convenience. Please also feel free to call me via the phone number or email address listed on my resume. Thank you for your time and consideration.\n",
            "\n",
            "Dear Ms. Hiring Manager,\n",
            "\n",
            "I’m applying for the position of Senior Data Scientists (job id: 1234534). My resume with detailed work experience is enclosed. Based on the job description, I think this position looks both fun and challenging — and a great place for me to further my career! If you have a moment, I’d love to ask you more questions around the tools you’re using and the types of projects I might be running if hired.\n",
            "\n",
            "And, if you have any questions about my resume, feel free to reach out over email or call me directly at my phone number in the signature.\n",
            "\n",
            "Hope to hear from you soon,\n",
            "\n",
            "Dear Sir/Madam,\n",
            "\n",
            "Following your [], I am applying for the position of []. My passion for computer science led me to study Bachelor of []. My academic background reflects strong grades in Mathematics which is an added advantage in pursuing industry-related interests. I am confident that I would be a valuable addition to your team.\n",
            "\n",
            "For the past two years, I have been a data scientist at Microsoft Co. My responsibilities included analysis of raw data and part of the team that created data products such as Google's Graph Search. Among those I also assisted with casual inferences, analyzing relationships in data developed algorithms and observations with finding patterns. Working at [] enhanced my knowledge on how to identify and answer questions related to data science, then using that information to the advantage of the team.\n",
            "\n",
            "During my internship, I worked as an entry-level data scientist at Center for Data Science at RTI International. This is one of the state's largest and independent non-profit scientific research centers. I performed duties such as analyzing source data, consumer insights, and behavioral science.\n",
            "\n",
            "Working for you as one of the largest data scientist company will be a dream come true. I will use my determination for solving problems and bold approach to challenges to improve the reputable status of the company. Your time and consideration are highly appreciated. I have attached my resume' and copies of certifications alongside my cover letter.\n",
            "\n",
            "I am looking forward\n",
            "\n",
            "[810 | 1057.39] loss=0.01 avg=0.02\n",
            "[820 | 1069.86] loss=0.01 avg=0.02\n",
            "[830 | 1082.35] loss=0.00 avg=0.02\n",
            "[840 | 1094.83] loss=0.00 avg=0.02\n",
            "[850 | 1107.30] loss=0.00 avg=0.02\n",
            "[860 | 1119.78] loss=0.01 avg=0.02\n",
            "[870 | 1132.25] loss=0.00 avg=0.02\n",
            "[880 | 1144.74] loss=0.01 avg=0.02\n",
            "[890 | 1157.22] loss=0.00 avg=0.01\n",
            "[900 | 1169.71] loss=0.01 avg=0.01\n",
            "[910 | 1182.23] loss=0.00 avg=0.01\n",
            "[920 | 1194.72] loss=0.00 avg=0.01\n",
            "[930 | 1207.20] loss=0.01 avg=0.01\n",
            "[940 | 1219.70] loss=0.00 avg=0.01\n",
            "[950 | 1232.18] loss=0.00 avg=0.01\n",
            "[960 | 1244.67] loss=0.00 avg=0.01\n",
            "[970 | 1257.15] loss=0.00 avg=0.01\n",
            "[980 | 1269.63] loss=0.01 avg=0.01\n",
            "[990 | 1282.10] loss=0.00 avg=0.01\n",
            "[1000 | 1294.59] loss=0.00 avg=0.01\n",
            "Saving checkpoint/run1/model-1000\n",
            "WARNING:tensorflow:From /tensorflow-1.15.2/python3.6/tensorflow_core/python/training/saver.py:963: remove_checkpoint (from tensorflow.python.training.checkpoint_management) is deprecated and will be removed in a future version.\n",
            "Instructions for updating:\n",
            "Use standard file APIs to delete files with this prefix.\n"
          ],
          "name": "stdout"
        }
      ]
    },
    {
      "cell_type": "markdown",
      "metadata": {
        "id": "IXSuTNERaw6K",
        "colab_type": "text"
      },
      "source": [
        "After the model is trained, you can copy the checkpoint folder to your own Google Drive.\n",
        "\n",
        "If you want to download it to your personal computer, it's strongly recommended you copy it there first, then download from Google Drive. The checkpoint folder is copied as a `.rar` compressed file; you can download it and uncompress it locally."
      ]
    },
    {
      "cell_type": "code",
      "metadata": {
        "id": "VHdTL8NDbAh3",
        "colab_type": "code",
        "colab": {}
      },
      "source": [
        "gpt2.copy_checkpoint_to_gdrive(run_name='run1')"
      ],
      "execution_count": null,
      "outputs": []
    },
    {
      "cell_type": "markdown",
      "metadata": {
        "id": "qQJgV_b4bmzd",
        "colab_type": "text"
      },
      "source": [
        "You're done! Feel free to go to the **Generate Text From The Trained Model** section to generate text based on your retrained model."
      ]
    },
    {
      "cell_type": "markdown",
      "metadata": {
        "id": "pel-uBULXO2L",
        "colab_type": "text"
      },
      "source": [
        "## Load a Trained Model Checkpoint\n",
        "\n",
        "Running the next cell will copy the `.rar` checkpoint file from your Google Drive into the Colaboratory VM."
      ]
    },
    {
      "cell_type": "code",
      "metadata": {
        "id": "DCcx5u7sbPTD",
        "colab_type": "code",
        "colab": {}
      },
      "source": [
        "gpt2.copy_checkpoint_from_gdrive(run_name='run1')"
      ],
      "execution_count": null,
      "outputs": []
    },
    {
      "cell_type": "markdown",
      "metadata": {
        "id": "RTa6zf3e_9gV",
        "colab_type": "text"
      },
      "source": [
        "The next cell will allow you to load the retrained model checkpoint + metadata necessary to generate text.\n",
        "\n",
        "**IMPORTANT NOTE:** If you want to rerun this cell, **restart the VM first** (Runtime -> Restart Runtime). You will need to rerun imports but not recopy files."
      ]
    },
    {
      "cell_type": "code",
      "metadata": {
        "id": "-fxL77nvAMAX",
        "colab_type": "code",
        "colab": {
          "base_uri": "https://localhost:8080/",
          "height": 51
        },
        "outputId": "7e0f53ca-7bbb-4f73-b225-330e0ca1fbe9"
      },
      "source": [
        "sess = gpt2.start_tf_sess()\n",
        "gpt2.load_gpt2(sess, run_name='run1')"
      ],
      "execution_count": null,
      "outputs": [
        {
          "output_type": "stream",
          "text": [
            "Loading checkpoint checkpoint/run1/model-1000\n",
            "INFO:tensorflow:Restoring parameters from checkpoint/run1/model-1000\n"
          ],
          "name": "stdout"
        }
      ]
    },
    {
      "cell_type": "markdown",
      "metadata": {
        "id": "ClJwpF_ACONp",
        "colab_type": "text"
      },
      "source": [
        "## Generate Text From The Trained Model\n",
        "\n",
        "After you've trained the model or loaded a retrained model from checkpoint, you can now generate text. `generate` generates a single text from the loaded model."
      ]
    },
    {
      "cell_type": "code",
      "metadata": {
        "id": "4RNY6RBI9LmL",
        "colab_type": "code",
        "colab": {
          "base_uri": "https://localhost:8080/",
          "height": 748
        },
        "outputId": "b91e7a2a-733a-4b12-d9a9-b6428c641e3c"
      },
      "source": [
        "gpt2.generate(sess, run_name='run1')"
      ],
      "execution_count": null,
      "outputs": [
        {
          "output_type": "stream",
          "text": [
            "What separates me from other candidates with similar qualifications are my written and verbal communication skills. I love talking about data and thrive on explaining the meaning of data to non-technical stakeholders. If you think I’d be a good fit for [], then I’d be thrilled to set up an interview.\n",
            "\n",
            "Dear [insert hiring manager’s name],\n",
            "\n",
            "I came across your data scientist job posting while reading one of your organization’s most recent publications, and I was immediately excited to apply given our mutual interest in using data to help audiences make better purchasing decisions. Not to mention, my four years of data analysis experience within the IT industry, my detail-oriented and methodical nature, and my total proficiency in database and modeling software programs will enable me to contribute significantly to your team.\n",
            "\n",
            "Most recently I have been a lead research and analysis professional with TF Solutions, with a focus on tracking user preferences and market trends. I am well-versed in industry needs and know how to work with minimal input while maintaining exceptional standards for accuracy, efficiency, and quality.With an adaptable and forward-thinking nature, I am always on the hunt for new ways to make research and data analysis more effective at capturing current market information and modeling future business needs.\n",
            "\n",
            "I am positive that with my experience, knowledge, and drive for excellence I can greatly benefit your leading-edge company.I am confident that my qualifications and your needs are an excellent fit, and I would love to learn more about this opportunity in a formal interview. I can make myself available for an appointment at your earliest convenience. Please also feel free to call me via the phone number or email address listed on my resume. Thank you for your time and consideration.\n",
            "\n",
            "Dear Ms. Hiring Manager,\n",
            "\n",
            "I’m applying for the position of Senior Data Scientists (job id: 1234534). My resume with detailed work experience is enclosed. Based on the job description, I think this position looks both fun and challenging — and a great place for me to further my career! If you have a moment, I’d love to ask you more questions around the tools you’re using and the types of projects I might be running if hired.\n",
            "\n",
            "And, if you have any questions about my resume, feel free to reach out over email or call me directly at my phone number in the signature.\n",
            "\n",
            "Hope to hear from you soon,\n",
            "\n",
            "Dear Sir/Madam,\n",
            "\n",
            "Following your [], I am applying for the position of []. My passion for computer science led me to study Bachelor of []. My academic background reflects strong grades in Mathematics which is an added advantage in pursuing industry-related interests. I am confident that I would be a valuable addition to your team.\n",
            "\n",
            "For the past two years, I have been a data scientist at Microsoft Co. My responsibilities included analysis of raw data and part of the team that created data products such as Google's Graph Search. Among those I also assisted with casual inferences, analyzing relationships in data developed algorithms and observations with finding patterns. Working at [] enhanced my knowledge on how to identify and answer questions related to data science, then using that information to the advantage of the team.\n",
            "\n",
            "During my internship, I worked as an entry-level data scientist at Center for Data Science at RTI International. This is one of the state's largest and independent non-profit scientific research centers. I performed duties such as analyzing source data, consumer insights, and behavioral science.\n",
            "\n",
            "Working for you as one of the largest data scientist company will be a dream come true. I will use my determination for solving problems and bold approach to challenges to improve the reputable status of the company. Your time and consideration are highly appreciated. I have attached my resume' and copies of certifications alongside my cover letter.\n",
            "\n",
            "I am looking forward to hearing from you.\n",
            "\n",
            "Dear [insert hiring manager’s name],\n",
            "\n",
            "I am writing to apply for the [] position now available with []. and I believe that I am an excellent candidate for this job.\n",
            "\n",
            "While there is no specific area of study assigned to this particular field, I have pursued studies in computer science and mathematics, which I believe has helped prepare me for this position. In addition, much of my studies revolved around [] and [] because I have a genuine interest in these subjects as well.\n",
            "\n",
            "I have acquired many of the skills needed to hold this position such as having the ability to [] and understand statistical data. I also have the ability to [] to look for current trends in a variety of fields and I am familiar with []. I have strong [] skills that include knowledge of [] and [].\n",
            "\n",
            "I am hard working, reliable and I have great interpersonal and communication skills. I enjoy working in groups to compare notes and to hear the opinions of other professions but I also have the ability to work alone and maintain efficiency.\n",
            "\n",
            "I have a real desire to learn more about how this type\n"
          ],
          "name": "stdout"
        }
      ]
    },
    {
      "cell_type": "markdown",
      "metadata": {
        "id": "oF4-PqF0Fl7R",
        "colab_type": "text"
      },
      "source": [
        "If you're creating an API based on your model and need to pass the generated text elsewhere, you can do `text = gpt2.generate(sess, return_as_list=True)[0]`\n",
        "\n",
        "You can also pass in a `prefix` to the generate function to force the text to start with a given character sequence and generate text from there (good if you add an indicator when the text starts).\n",
        "\n",
        "You can also generate multiple texts at a time by specifing `nsamples`. Unique to GPT-2, you can pass a `batch_size` to generate multiple samples in parallel, giving a massive speedup (in Colaboratory, set a maximum of 20 for `batch_size`).\n",
        "\n",
        "Other optional-but-helpful parameters for `gpt2.generate` and friends:\n",
        "\n",
        "*  **`length`**: Number of tokens to generate (default 1023, the maximum)\n",
        "* **`temperature`**: The higher the temperature, the crazier the text (default 0.7, recommended to keep between 0.7 and 1.0)\n",
        "* **`top_k`**: Limits the generated guesses to the top *k* guesses (default 0 which disables the behavior; if the generated output is super crazy, you may want to set `top_k=40`)\n",
        "* **`top_p`**: Nucleus sampling: limits the generated guesses to a cumulative probability. (gets good results on a dataset with `top_p=0.9`)\n",
        "* **`truncate`**: Truncates the input text until a given sequence, excluding that sequence (e.g. if `truncate='<|endoftext|>'`, the returned text will include everything before the first `<|endoftext|>`). It may be useful to combine this with a smaller `length` if the input texts are short.\n",
        "*  **`include_prefix`**: If using `truncate` and `include_prefix=False`, the specified `prefix` will not be included in the returned text."
      ]
    },
    {
      "cell_type": "code",
      "metadata": {
        "id": "8DKMc0fiej4N",
        "colab_type": "code",
        "colab": {
          "base_uri": "https://localhost:8080/",
          "height": 54
        },
        "outputId": "376e0a16-2677-48a6-cbee-e4eda4a40c68"
      },
      "source": [
        "gpt2.generate(sess,\n",
        "              length=100,\n",
        "              temperature=0.8,\n",
        "              prefix=\"I am hard working\",\n",
        "              nsamples=1,\n",
        "              batch_size=1\n",
        "              )"
      ],
      "execution_count": null,
      "outputs": [
        {
          "output_type": "stream",
          "text": [
            "I am hard working, and I have an extensive range of responsibilities including selecting features, optimizing classifiers, mining data, expanding the company's data by incorporating third-party sources, improving data collection techniques, processing data, and doing ad-hoc analyses. As a Data Scientist, I was required to have excellent communication skills, understanding of algorithms, excellence in the [] tool kit, proficiency in [], knowledge of [], and excellence in applied statistics. During my eight-year tenure at [], I applied these skills\n"
          ],
          "name": "stdout"
        }
      ]
    },
    {
      "cell_type": "code",
      "metadata": {
        "id": "VMiSzDcp1C6X",
        "colab_type": "code",
        "colab": {}
      },
      "source": [
        "generated_list = []\n",
        "for i in range(30):\n",
        "  result = gpt2.generate(sess,\n",
        "              length=30,\n",
        "              temperature=0.8,\n",
        "              prefix=\"as you go into the room kill\",\n",
        "              nsamples=1,\n",
        "              batch_size=1\n",
        "              )\n",
        "  generated_list.append(result)\n",
        "generated_list"
      ],
      "execution_count": null,
      "outputs": []
    },
    {
      "cell_type": "code",
      "metadata": {
        "id": "YXqcw0v32Lh3",
        "colab_type": "code",
        "colab": {}
      },
      "source": [
        "with open('room_description.txt', 'w') as filehandle:\n",
        "    filehandle.writelines(\"%s\\n\" % place for place in generated_list)"
      ],
      "execution_count": null,
      "outputs": []
    },
    {
      "cell_type": "code",
      "metadata": {
        "id": "PKvIh01G7vhk",
        "colab_type": "code",
        "colab": {}
      },
      "source": [
        "import json\n",
        "\n",
        "# define list with values\n",
        "\n",
        "# open output file for writing\n",
        "with open('room_description.txt', 'w') as filehandle:\n",
        "    json.dump(generated_list, filehandle)"
      ],
      "execution_count": null,
      "outputs": []
    },
    {
      "cell_type": "markdown",
      "metadata": {
        "id": "zjjEN2Tafhl2",
        "colab_type": "text"
      },
      "source": [
        "For bulk generation, you can generate a large amount of text to a file and sort out the samples locally on your computer. The next cell will generate a generated text file with a unique timestamp.\n",
        "\n",
        "You can rerun the cells as many times as you want for even more generated texts!"
      ]
    },
    {
      "cell_type": "code",
      "metadata": {
        "id": "Fa6p6arifSL0",
        "colab_type": "code",
        "colab": {}
      },
      "source": [
        "gen_file = 'gpt2_gentext_{:%Y%m%d_%H%M%S}.txt'.format(datetime.utcnow())\n",
        "\n",
        "gpt2.generate_to_file(sess,\n",
        "                      destination_path=gen_file,\n",
        "                      length=500,\n",
        "                      temperature=0.7,\n",
        "                      nsamples=100,\n",
        "                      batch_size=20\n",
        "                      )"
      ],
      "execution_count": null,
      "outputs": []
    },
    {
      "cell_type": "code",
      "metadata": {
        "id": "0-LRex8lfv1g",
        "colab_type": "code",
        "colab": {}
      },
      "source": [
        "# may have to run twice to get file to download\n",
        "files.download(gen_file)"
      ],
      "execution_count": null,
      "outputs": []
    },
    {
      "cell_type": "markdown",
      "metadata": {
        "id": "QQAN3M6RT7Kj",
        "colab_type": "text"
      },
      "source": [
        "## Generate Text From The Pretrained Model\n",
        "\n",
        "If you want to generate text from the pretrained model, not a finetuned model, pass `model_name` to `gpt2.load_gpt2()` and `gpt2.generate()`.\n",
        "\n",
        "This is currently the only way to generate text from the 774M or 1558M models with this notebook."
      ]
    },
    {
      "cell_type": "code",
      "metadata": {
        "id": "hsUd_jHgUZnD",
        "colab_type": "code",
        "colab": {}
      },
      "source": [
        "model_name = \"774M\"\n",
        "\n",
        "gpt2.download_gpt2(model_name=model_name)"
      ],
      "execution_count": null,
      "outputs": []
    },
    {
      "cell_type": "code",
      "metadata": {
        "id": "BAe4NpKNUj2C",
        "colab_type": "code",
        "colab": {}
      },
      "source": [
        "sess = gpt2.start_tf_sess()\n",
        "\n",
        "gpt2.load_gpt2(sess, model_name=model_name)"
      ],
      "execution_count": null,
      "outputs": []
    },
    {
      "cell_type": "code",
      "metadata": {
        "id": "-xInIZKaU104",
        "colab_type": "code",
        "colab": {}
      },
      "source": [
        "gpt2.generate(sess,\n",
        "              model_name=model_name,\n",
        "              prefix=\"The secret of life is\",\n",
        "              length=100,\n",
        "              temperature=0.7,\n",
        "              top_p=0.9,\n",
        "              nsamples=5,\n",
        "              batch_size=5\n",
        "              )"
      ],
      "execution_count": null,
      "outputs": []
    },
    {
      "cell_type": "markdown",
      "metadata": {
        "id": "ig-KVgkCDCKD",
        "colab_type": "text"
      },
      "source": [
        "# Etcetera\n",
        "\n",
        "If the notebook has errors (e.g. GPU Sync Fail), force-kill the Colaboratory virtual machine and restart it with the command below:"
      ]
    },
    {
      "cell_type": "code",
      "metadata": {
        "id": "rIHiVP53FnsX",
        "colab_type": "code",
        "colab": {}
      },
      "source": [
        "!kill -9 -1"
      ],
      "execution_count": null,
      "outputs": []
    },
    {
      "cell_type": "markdown",
      "metadata": {
        "id": "wmTXWNUygS5E",
        "colab_type": "text"
      },
      "source": [
        "# LICENSE\n",
        "\n",
        "MIT License\n",
        "\n",
        "Copyright (c) 2019 Max Woolf\n",
        "\n",
        "Permission is hereby granted, free of charge, to any person obtaining a copy\n",
        "of this software and associated documentation files (the \"Software\"), to deal\n",
        "in the Software without restriction, including without limitation the rights\n",
        "to use, copy, modify, merge, publish, distribute, sublicense, and/or sell\n",
        "copies of the Software, and to permit persons to whom the Software is\n",
        "furnished to do so, subject to the following conditions:\n",
        "\n",
        "The above copyright notice and this permission notice shall be included in all\n",
        "copies or substantial portions of the Software.\n",
        "\n",
        "THE SOFTWARE IS PROVIDED \"AS IS\", WITHOUT WARRANTY OF ANY KIND, EXPRESS OR\n",
        "IMPLIED, INCLUDING BUT NOT LIMITED TO THE WARRANTIES OF MERCHANTABILITY,\n",
        "FITNESS FOR A PARTICULAR PURPOSE AND NONINFRINGEMENT. IN NO EVENT SHALL THE\n",
        "AUTHORS OR COPYRIGHT HOLDERS BE LIABLE FOR ANY CLAIM, DAMAGES OR OTHER\n",
        "LIABILITY, WHETHER IN AN ACTION OF CONTRACT, TORT OR OTHERWISE, ARISING FROM,\n",
        "OUT OF OR IN CONNECTION WITH THE SOFTWARE OR THE USE OR OTHER DEALINGS IN THE\n",
        "SOFTWARE."
      ]
    }
  ]
}